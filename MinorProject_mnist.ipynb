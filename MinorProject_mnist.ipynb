{
  "nbformat": 4,
  "nbformat_minor": 0,
  "metadata": {
    "colab": {
      "name": "MinorProject_mnist.ipynb",
      "provenance": [],
      "collapsed_sections": [],
      "authorship_tag": "ABX9TyPFf0So5mD8RFf30cAu63ER",
      "include_colab_link": true
    },
    "kernelspec": {
      "name": "python3",
      "display_name": "Python 3"
    }
  },
  "cells": [
    {
      "cell_type": "markdown",
      "metadata": {
        "id": "view-in-github",
        "colab_type": "text"
      },
      "source": [
        "<a href=\"https://colab.research.google.com/github/akashini313/AI-Minor-Project/blob/main/MinorProject_mnist.ipynb\" target=\"_parent\"><img src=\"https://colab.research.google.com/assets/colab-badge.svg\" alt=\"Open In Colab\"/></a>"
      ]
    },
    {
      "cell_type": "code",
      "metadata": {
        "colab": {
          "base_uri": "https://localhost:8080/"
        },
        "id": "MouVAmfwqaiJ",
        "outputId": "6f70aabe-bd41-4b63-c2b2-5ebf4755d5ba"
      },
      "source": [
        "from keras.datasets import mnist\n",
        "import matplotlib.pyplot as plt\n",
        "from keras.datasets import mnist\n",
        "from keras.models import Sequential\n",
        "from keras.layers import Dense\n",
        "from keras.layers import Dropout\n",
        "from keras.utils import np_utils\n",
        "!pip install -U -q PyDrive\n",
        "from pydrive.auth import GoogleAuth\n",
        "from pydrive.drive import GoogleDrive\n",
        "from google.colab import auth\n",
        "from oauth2client.client import GoogleCredentials\n",
        "auth.authenticate_user()\n",
        "gauth = GoogleAuth()\n",
        "gauth.credentials = GoogleCredentials.get_application_default()\n",
        "drive = GoogleDrive(gauth)\n",
        "(X_train, y_train), (X_test, y_test) = mnist.load_data()\n",
        "num_pixels = X_train.shape[1] * X_train.shape[2]\n",
        "X_train = X_train.reshape((X_train.shape[0], num_pixels)).astype('float32')\n",
        "X_test = X_test.reshape((X_test.shape[0], num_pixels)).astype('float32')\n",
        "X_train = X_train / 255\n",
        "X_test = X_test / 255\n",
        "y_train = np_utils.to_categorical(y_train)\n",
        "y_test = np_utils.to_categorical(y_test)\n",
        "num_classes = y_test.shape[1]\n",
        "def baseline_model():\n",
        "  model = Sequential()\n",
        "  model.add(Dense(num_pixels, input_dim=num_pixels, kernel_initializer='normal', activation='relu'))\n",
        "  model.add(Dense(num_classes, kernel_initializer='normal', activation='softmax'))\n",
        "  model.compile(loss='categorical_crossentropy', optimizer='adam', metrics=['accuracy'])\n",
        "  return model\n",
        "model = baseline_model()\n",
        "model.fit(X_train, y_train, validation_data=(X_test, y_test), epochs=10, batch_size=200, verbose=2)\n",
        "scores = model.evaluate(X_test, y_test, verbose=0)\n",
        "print(\"Baseline Error: %.2f%%\" % (100-scores[1]*100))\n",
        "model.save('model.h5')    \n",
        "model_file = drive.CreateFile({'title' : 'model.h5'})\n",
        "model_file.SetContentFile('model.h5')\n",
        "model_file.Upload()\n",
        "drive.CreateFile({'id': model_file.get('id')})\n",
        "model.save_weights('model_weights.h5')\n",
        "weights_file = drive.CreateFile({'title' : 'model_weights.h5'})\n",
        "weights_file.SetContentFile('model_weights.h5')\n",
        "weights_file.Upload()\n",
        "drive.CreateFile({'id': weights_file.get('id')})"
      ],
      "execution_count": 1,
      "outputs": [
        {
          "output_type": "stream",
          "text": [
            "Downloading data from https://storage.googleapis.com/tensorflow/tf-keras-datasets/mnist.npz\n",
            "11493376/11490434 [==============================] - 0s 0us/step\n",
            "Epoch 1/10\n",
            "300/300 - 4s - loss: 0.2744 - accuracy: 0.9219 - val_loss: 0.1354 - val_accuracy: 0.9615\n",
            "Epoch 2/10\n",
            "300/300 - 4s - loss: 0.1093 - accuracy: 0.9688 - val_loss: 0.0982 - val_accuracy: 0.9694\n",
            "Epoch 3/10\n",
            "300/300 - 4s - loss: 0.0704 - accuracy: 0.9792 - val_loss: 0.0816 - val_accuracy: 0.9748\n",
            "Epoch 4/10\n",
            "300/300 - 4s - loss: 0.0494 - accuracy: 0.9861 - val_loss: 0.0652 - val_accuracy: 0.9790\n",
            "Epoch 5/10\n",
            "300/300 - 4s - loss: 0.0360 - accuracy: 0.9898 - val_loss: 0.0650 - val_accuracy: 0.9782\n",
            "Epoch 6/10\n",
            "300/300 - 4s - loss: 0.0261 - accuracy: 0.9931 - val_loss: 0.0607 - val_accuracy: 0.9809\n",
            "Epoch 7/10\n",
            "300/300 - 4s - loss: 0.0194 - accuracy: 0.9952 - val_loss: 0.0632 - val_accuracy: 0.9813\n",
            "Epoch 8/10\n",
            "300/300 - 4s - loss: 0.0145 - accuracy: 0.9968 - val_loss: 0.0652 - val_accuracy: 0.9797\n",
            "Epoch 9/10\n",
            "300/300 - 4s - loss: 0.0105 - accuracy: 0.9981 - val_loss: 0.0541 - val_accuracy: 0.9834\n",
            "Epoch 10/10\n",
            "300/300 - 4s - loss: 0.0080 - accuracy: 0.9987 - val_loss: 0.0587 - val_accuracy: 0.9816\n",
            "Baseline Error: 1.84%\n"
          ],
          "name": "stdout"
        },
        {
          "output_type": "execute_result",
          "data": {
            "text/plain": [
              "GoogleDriveFile({'id': '10xyaLlfU4o4Cha-SnERer8pWP1kSz7lT'})"
            ]
          },
          "metadata": {
            "tags": []
          },
          "execution_count": 1
        }
      ]
    }
  ]
}